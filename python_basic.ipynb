{
  "nbformat": 4,
  "nbformat_minor": 0,
  "metadata": {
    "colab": {
      "provenance": [],
      "authorship_tag": "ABX9TyOqoh125NvmIgkn6FBd3Z0p",
      "include_colab_link": true
    },
    "kernelspec": {
      "name": "python3",
      "display_name": "Python 3"
    },
    "language_info": {
      "name": "python"
    }
  },
  "cells": [
    {
      "cell_type": "markdown",
      "metadata": {
        "id": "view-in-github",
        "colab_type": "text"
      },
      "source": [
        "<a href=\"https://colab.research.google.com/github/Aadhithya1806/learn-machine-learning/blob/main/python_basic.ipynb\" target=\"_parent\"><img src=\"https://colab.research.google.com/assets/colab-badge.svg\" alt=\"Open In Colab\"/></a>"
      ]
    },
    {
      "cell_type": "code",
      "execution_count": 18,
      "metadata": {
        "id": "oLO7-X0liTwc",
        "colab": {
          "base_uri": "https://localhost:8080/"
        },
        "outputId": "eeed5e6f-6f4f-4521-b9bb-cdfd4d29f9a2"
      },
      "outputs": [
        {
          "output_type": "stream",
          "name": "stdout",
          "text": [
            "Enter number 1: \n",
            "5\n",
            "Enter number 2: \n",
            "5\n",
            "10\n"
          ]
        }
      ],
      "source": [
        "num1 = int(input(\"Enter number 1: \\n\"))\n",
        "num2 = int(input(\"Enter number 2: \\n\"))\n",
        "# answer = input1 + input2\n",
        "# print(answer)\n",
        "ans = add(num1,num2)\n",
        "print(ans)"
      ]
    },
    {
      "cell_type": "code",
      "source": [],
      "metadata": {
        "id": "Q1eqaVh2mXrz"
      },
      "execution_count": 18,
      "outputs": []
    },
    {
      "cell_type": "code",
      "source": [
        "#def function_name (parameters):\n",
        "    #statement to execute\n",
        "\n"
      ],
      "metadata": {
        "id": "mgdIZI3Al1ua"
      },
      "execution_count": 19,
      "outputs": []
    },
    {
      "cell_type": "code",
      "source": [
        "def add(num1, num2):\n",
        "  return (num1 + num2)\n"
      ],
      "metadata": {
        "id": "glmMvfVJmDPJ"
      },
      "execution_count": 20,
      "outputs": []
    },
    {
      "cell_type": "code",
      "source": [
        "#FUNCTION TO CHECK PRIME NUMBER:\n",
        "def is_prime( num):\n",
        "  if num<=1:\n",
        "    return False\n",
        "  for i in range(2,num):\n",
        "    if(num%i==0):\n",
        "      return False\n",
        "  return True\n",
        "\n",
        "ans = is_prime(18)\n",
        "print(ans)"
      ],
      "metadata": {
        "colab": {
          "base_uri": "https://localhost:8080/"
        },
        "id": "sMcdzCCJnU1j",
        "outputId": "5ea3b2f9-6e27-44af-d260-0bc24b75057f"
      },
      "execution_count": 21,
      "outputs": [
        {
          "output_type": "stream",
          "name": "stdout",
          "text": [
            "False\n"
          ]
        }
      ]
    },
    {
      "cell_type": "markdown",
      "source": [
        "**CODE FOR LINEAR REGRESSION**"
      ],
      "metadata": {
        "id": "ko_Lk1CWsST_"
      }
    },
    {
      "cell_type": "code",
      "source": [],
      "metadata": {
        "id": "3wzE1lvisOZi"
      },
      "execution_count": 21,
      "outputs": []
    }
  ]
}