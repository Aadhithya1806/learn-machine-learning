{
  "nbformat": 4,
  "nbformat_minor": 0,
  "metadata": {
    "colab": {
      "provenance": [],
      "authorship_tag": "ABX9TyMAlsje8MRMmKeAjmOqHRXM",
      "include_colab_link": true
    },
    "kernelspec": {
      "name": "python3",
      "display_name": "Python 3"
    },
    "language_info": {
      "name": "python"
    }
  },
  "cells": [
    {
      "cell_type": "markdown",
      "metadata": {
        "id": "view-in-github",
        "colab_type": "text"
      },
      "source": [
        "<a href=\"https://colab.research.google.com/github/Aadhithya1806/learn-machine-learning/blob/main/python_basic.ipynb\" target=\"_parent\"><img src=\"https://colab.research.google.com/assets/colab-badge.svg\" alt=\"Open In Colab\"/></a>"
      ]
    },
    {
      "cell_type": "code",
      "execution_count": null,
      "metadata": {
        "id": "oLO7-X0liTwc",
        "colab": {
          "base_uri": "https://localhost:8080/"
        },
        "outputId": "eeed5e6f-6f4f-4521-b9bb-cdfd4d29f9a2"
      },
      "outputs": [
        {
          "output_type": "stream",
          "name": "stdout",
          "text": [
            "Enter number 1: \n",
            "5\n",
            "Enter number 2: \n",
            "5\n",
            "10\n"
          ]
        }
      ],
      "source": [
        "\n",
        "num1 = int(input(\"Enter number 1: \\n\"))\n",
        "num2 = int(input(\"Enter number 2: \\n\"))\n",
        "# answer = input1 + input2\n",
        "# print(answer)\n",
        "ans = add(num1,num2)\n",
        "print(ans)"
      ]
    },
    {
      "cell_type": "code",
      "source": [],
      "metadata": {
        "id": "Q1eqaVh2mXrz"
      },
      "execution_count": null,
      "outputs": []
    },
    {
      "cell_type": "code",
      "source": [
        "#def function_name (parameters):\n",
        "    #statement to execute\n",
        "\n"
      ],
      "metadata": {
        "id": "mgdIZI3Al1ua"
      },
      "execution_count": null,
      "outputs": []
    },
    {
      "cell_type": "code",
      "source": [
        "def add(num1, num2):\n",
        "  return (num1 + num2)\n"
      ],
      "metadata": {
        "id": "glmMvfVJmDPJ"
      },
      "execution_count": null,
      "outputs": []
    },
    {
      "cell_type": "code",
      "source": [
        "#FUNCTION TO CHECK PRIME NUMBER:\n",
        "def is_prime( num):\n",
        "  if num<=1:\n",
        "    return False\n",
        "  for i in range(2,num):\n",
        "    if(num%i==0):\n",
        "      return False\n",
        "  return True\n",
        "\n",
        "ans = is_prime(18)\n",
        "print(ans)"
      ],
      "metadata": {
        "colab": {
          "base_uri": "https://localhost:8080/"
        },
        "id": "sMcdzCCJnU1j",
        "outputId": "5ea3b2f9-6e27-44af-d260-0bc24b75057f"
      },
      "execution_count": null,
      "outputs": [
        {
          "output_type": "stream",
          "name": "stdout",
          "text": [
            "False\n"
          ]
        }
      ]
    },
    {
      "cell_type": "markdown",
      "source": [
        "PROGRAM TO CHECK PALINDROME"
      ],
      "metadata": {
        "id": "lC3kEBMDmLlM"
      }
    },
    {
      "cell_type": "code",
      "source": [
        "def isPalindrome (str1):\n",
        "  if(str1 == (str1[: :-1])):\n",
        "      return True;\n",
        "\n",
        "  else:\n",
        "      return False;\n",
        "str1 = input(\"Enter the string: \")\n",
        "ans = isPalindrome(str1)\n",
        "print(ans)\n",
        "\n"
      ],
      "metadata": {
        "id": "3wzE1lvisOZi",
        "colab": {
          "base_uri": "https://localhost:8080/"
        },
        "outputId": "509d49e5-6bc6-41fc-fd4f-a2676b36a90a"
      },
      "execution_count": 9,
      "outputs": [
        {
          "output_type": "stream",
          "name": "stdout",
          "text": [
            "Enter the string: aadhithya\n",
            "False\n"
          ]
        }
      ]
    },
    {
      "cell_type": "markdown",
      "source": [
        "NUMPY FUNCTIONS"
      ],
      "metadata": {
        "id": "H9wAqhiRyJDt"
      }
    },
    {
      "cell_type": "code",
      "source": [
        "import numpy as np\n",
        "my_list = [1,3,4,5,6,7,8,76,5,]\n",
        "my_list_1 = [[1,5,7],[7,5,9],[5,6,8]]\n",
        "arr = np.array(my_list)\n",
        "arr1 = np.array(my_list_1)\n",
        "meanVal = np.mean(arr)\n",
        "stdDev = np.std(arr)\n",
        "coVar = np.cov(arr)\n",
        "eigenVal = np.linalg.eig(arr1)\n",
        "\n",
        "print(\"Mean: \",meanVal)\n",
        "print(\"STD\" , stdDev)\n",
        "print(\"CoVar\" , coVar)\n",
        "print(\"eigen\",eigenVal)\n"
      ],
      "metadata": {
        "colab": {
          "base_uri": "https://localhost:8080/"
        },
        "id": "LyZMP5zusfrN",
        "outputId": "b5acc37e-96dd-4ec6-c6cc-611d104092ef"
      },
      "execution_count": 5,
      "outputs": [
        {
          "output_type": "stream",
          "name": "stdout",
          "text": [
            "Mean:  12.777777777777779\n",
            "STD 22.43894322020327\n",
            "CoVar 566.4444444444445\n",
            "eigen (array([18.07995907, -3.22151393, -0.85844514]), array([[-0.4424989 , -0.75173026, -0.09857955],\n",
            "       [-0.65687904,  0.65923753, -0.79720576],\n",
            "       [-0.61049541, -0.01753541,  0.59560478]]))\n"
          ]
        }
      ]
    },
    {
      "cell_type": "markdown",
      "source": [
        "FINDING NON ZERO ELEMENTS"
      ],
      "metadata": {
        "id": "I-ARm9UrzD20"
      }
    },
    {
      "cell_type": "code",
      "source": [
        "import numpy as np\n",
        "\n",
        "my_list_1 = [[0,0,0],[7,0,0],[0,0,0]]\n",
        "arr = np.array(my_list_1)\n",
        "ans = np.ma.nonzero(arr)\n",
        "print(ans)\n",
        "\n",
        "\n"
      ],
      "metadata": {
        "colab": {
          "base_uri": "https://localhost:8080/"
        },
        "id": "XsvZJVD-yHob",
        "outputId": "2f467520-935e-4b2e-fae7-0b22aa3f4e06"
      },
      "execution_count": 10,
      "outputs": [
        {
          "output_type": "stream",
          "name": "stdout",
          "text": [
            "(array([1]), array([0]))\n"
          ]
        }
      ]
    },
    {
      "cell_type": "code",
      "source": [
        "p1_score = 0;\n",
        "p2_score\n",
        "while (p1_score<5 or p2_score<5):\n",
        "  print(\"Player 1\")\n",
        "  p1 = int(input(\"1.ROCK\\n2.PAPER\\n3.SCISSORS: \"))\n",
        "  print(\"Player 2\")\n",
        "  p2 = int(input(\"1.ROCK\\n2.PAPER\\n3.SCISSORS: \"))\n",
        "  if(p1==p2):\n",
        "    print(\"its a draw\")\n",
        "  if((p1==1 and p2==3) or (p2==1 and p1==3) or (p1==2 and p2==1)):\n",
        "    print(\"player 1 wins the roud\")\n",
        "    p1_score += 1\n",
        "  if((p2==1 and p1==3) or (p1==1 and p2==3) or (p2==2 and p1==1)):\n",
        "    print(\"player 2 wins the roud\")\n",
        "    p2_score +=1\n",
        "\n"
      ],
      "metadata": {
        "id": "TmssWQMOzMnE"
      },
      "execution_count": null,
      "outputs": []
    }
  ]
}